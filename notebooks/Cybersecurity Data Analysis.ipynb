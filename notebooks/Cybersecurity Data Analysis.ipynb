{
 "cells": [
  {
   "cell_type": "markdown",
   "metadata": {},
   "source": [
    "<div style=\"text-align: center;\">\n",
    "  <h1>Cybersecurity Data Analysis</h1>\n",
    "</div>\n",
    "\n",
    "## Contexte\n",
    "La cybersécurité est devenue un enjeu majeur dans un monde de plus en plus connecté.<br> \n",
    "Les incidents de cybersécurité peuvent avoir des impacts graves sur les entreprises, allant de la perte de données à des violations massives de confidentialité. \n",
    "\n",
    "## Source des Données\n",
    "Ce dataset est disponible sur le dépôt GitHub : https://github.com/incribo-inc/cybersecurity_attacks.<br>  \n",
    "Il recense divers incidents de cybersécurité en fournissant des informations détaillées sur le trafic réseau, les actions prises, et le contexte associé.<br> \n",
    "Les données concernent principalement des incidents observés en Inde, offrant ainsi un aperçu des vulnérabilités spécifiques à cette région.\n",
    "\n",
    "## Description des Données\n",
    "Le fichier contient 25 colonnes et un total de 40000 lignes. Ces données permettent de mieux comprendre les schémas des attaques, les segments vulnérables et les réponses associées.\n",
    "\n",
    "### Variables Principales et Leur Signification\n",
    "- **Timestamp** : Horodatage de l'événement, indiquant quand l'incident a eu lieu.\n",
    "- **Source IP Address** et **Destination IP Address** : Adresses IP de la source et de la destination impliquées dans le trafic.\n",
    "- **Source Port** et **Destination Port** : Ports réseau utilisés par la source et la destination.\n",
    "- **Protocol** : Protocole de communication (ex : ICMP, UDP, TCP).\n",
    "- **Packet Length** : Taille des paquets transmis, mesurée en octets.\n",
    "- **Packet Type** : Type de paquet (données ou contrôle).\n",
    "- **Traffic Type** : Type de trafic (HTTP, DNS, etc.).\n",
    "- **Severity Level** : Niveau de gravité de l'incident (Low, Medium, High, etc.).\n",
    "- **Geo-location Data** : Localisation géographique associée à l'incident.\n",
    "- **Action Taken** : Action entreprise pour répondre à l'incident (ex : Bloqué, Ignoré, etc.).\n",
    "- **User Information** et **Device Information** : Informations sur l'utilisateur et le périphérique impliqués.\n",
    "- **Network Segment** : Segment réseau où l'incident a été enregistré.\n",
    "- **IDS/IPS Alerts** : Alertes issues de systèmes de détection et de prévention des intrusions.\n",
    "\n",
    "Détails des questions et axes d'analyse :\n",
    "\n",
    "- Quels types de trafic et protocoles sont les plus fréquents et lesquels présentent les niveaux de gravité les plus élevés ?\n",
    "- Quels segments réseau ou géographiques sont les plus vulnérables ?\n",
    "- Existe-t-il des corrélations significatives entre les variables, telles que la taille des paquets, les types de trafic, et les niveaux de gravité ?\n",
    "- Quelles zones géographiques et segments réseau sont les plus souvent ciblés ?\n",
    "- Y a-t-il des tendances temporelles dans les attaques, comme des pics observés à certains jours ou mois spécifiques ?\n",
    "- Quelle est la distribution des attaques sur les différentes plateformes, navigateurs ou types de périphériques ?\n",
    "- Quels privilèges d'accès sont exploités lors des attaques et comment cela affecte-t-il leur gravité ?\n",
    "- Quelle est la proportion d'attaques détectées ou non détectées ? Quels sont les types d'attaques les plus récurrents ?\n",
    "- Comment les requêtes réseau, en termes de longueur et fréquence, varient-elles entre différents types d'incidents ?\n",
    "- Quels types de mesures ont été prises et leur efficacité en termes de niveau de sécurité atteint ?\n",
    "- Comment les différents types de \"network traffic\" (HTTP, DNS, etc.) contribuent-ils aux incidents de cybersécurité ?\n",
    "\n",
    "En synthétisant ces informations, l'analyse visera à identifier des schémas récurrents, explorer des distributions statistiques, et fournir des insights pour améliorer les stratégies de détection et de réponse.<br> \n",
    "Cette exploration aidera également à mettre en évidence les segments les plus vulnérables et à formuler des recommandations spécifiques pour renforcer la cybersécurité globale.\n"
   ]
  },
  {
   "cell_type": "code",
   "execution_count": 1,
   "metadata": {},
   "outputs": [],
   "source": [
    "import pandas as pd \n",
    "import matplotlib.pyplot as plt\n",
    "import seaborn as sns\n",
    "import re\n"
   ]
  },
  {
   "cell_type": "markdown",
   "metadata": {},
   "source": [
    "## Data Loading"
   ]
  },
  {
   "cell_type": "code",
   "execution_count": 2,
   "metadata": {},
   "outputs": [
    {
     "data": {
      "text/plain": [
       "<bound method NDFrame.head of                  Timestamp Source IP Address Destination IP Address  \\\n",
       "0      2023-05-30 06:33:58     103.216.15.12           84.9.164.252   \n",
       "1      2020-08-26 07:08:30    78.199.217.198         66.191.137.154   \n",
       "2      2022-11-13 08:23:25      63.79.210.48          198.219.82.17   \n",
       "3      2023-07-02 10:38:46     163.42.196.10        101.228.192.255   \n",
       "4      2023-07-16 13:11:07     71.166.185.76        189.243.174.238   \n",
       "...                    ...               ...                    ...   \n",
       "39995  2023-05-26 14:08:42      26.36.109.26         121.100.75.240   \n",
       "39996  2023-03-27 00:38:27      17.21.163.81         196.108.134.78   \n",
       "39997  2022-03-31 01:45:49     162.35.217.57            98.107.0.15   \n",
       "39998  2023-09-22 18:32:38    208.72.233.205         173.79.112.252   \n",
       "39999  2023-10-10 11:59:52     14.102.21.108           109.198.45.7   \n",
       "\n",
       "       Source Port  Destination Port Protocol  Packet Length Packet Type  \\\n",
       "0            31225             17616     ICMP            503        Data   \n",
       "1            17245             48166     ICMP           1174        Data   \n",
       "2            16811             53600      UDP            306     Control   \n",
       "3            20018             32534      UDP            385        Data   \n",
       "4             6131             26646      TCP           1462        Data   \n",
       "...            ...               ...      ...            ...         ...   \n",
       "39995        31005              6764      UDP           1428     Control   \n",
       "39996         2553             28091      UDP           1184     Control   \n",
       "39997        22505             25152      UDP           1043        Data   \n",
       "39998        20013              2703      UDP            483        Data   \n",
       "39999        50137             55575     ICMP           1175     Control   \n",
       "\n",
       "      Traffic Type                                       Payload Data  ...  \\\n",
       "0             HTTP  Qui natus odio asperiores nam. Optio nobis ius...  ...   \n",
       "1             HTTP  Aperiam quos modi officiis veritatis rem. Omni...  ...   \n",
       "2             HTTP  Perferendis sapiente vitae soluta. Hic delectu...  ...   \n",
       "3             HTTP  Totam maxime beatae expedita explicabo porro l...  ...   \n",
       "4              DNS  Odit nesciunt dolorem nisi iste iusto. Animi v...  ...   \n",
       "...            ...                                                ...  ...   \n",
       "39995         HTTP  Quibusdam ullam consequatur consequuntur accus...  ...   \n",
       "39996         HTTP  Quaerat neque esse. Animi expedita natus commo...  ...   \n",
       "39997          DNS  Enim at aspernatur illum. Saepe numquam eligen...  ...   \n",
       "39998          FTP  Officiis dolorem sed harum provident earum dis...  ...   \n",
       "39999         HTTP  Eligendi omnis voluptate nihil voluptatibus do...  ...   \n",
       "\n",
       "      Action Taken  Severity Level User Information  \\\n",
       "0           Logged             Low    Reyansh Dugal   \n",
       "1          Blocked             Low       Sumer Rana   \n",
       "2          Ignored             Low     Himmat Karpe   \n",
       "3          Blocked          Medium       Fateh Kibe   \n",
       "4          Blocked             Low     Dhanush Chad   \n",
       "...            ...             ...              ...   \n",
       "39995       Logged          Medium      Adira Madan   \n",
       "39996       Logged            High        Rati Dara   \n",
       "39997      Blocked             Low     Samiha Joshi   \n",
       "39998      Ignored             Low    Rasha Chauhan   \n",
       "39999       Logged          Medium      Zaina Kumar   \n",
       "\n",
       "                                      Device Information Network Segment  \\\n",
       "0      Mozilla/5.0 (compatible; MSIE 8.0; Windows NT ...       Segment A   \n",
       "1      Mozilla/5.0 (compatible; MSIE 8.0; Windows NT ...       Segment B   \n",
       "2      Mozilla/5.0 (compatible; MSIE 9.0; Windows NT ...       Segment C   \n",
       "3      Mozilla/5.0 (Macintosh; PPC Mac OS X 10_11_5; ...       Segment B   \n",
       "4      Mozilla/5.0 (compatible; MSIE 5.0; Windows NT ...       Segment C   \n",
       "...                                                  ...             ...   \n",
       "39995  Mozilla/5.0 (iPad; CPU iPad OS 14_2_1 like Mac...       Segment A   \n",
       "39996  Mozilla/5.0 (Windows; U; Windows 98; Win 9x 4....       Segment C   \n",
       "39997  Mozilla/5.0 (Windows; U; Windows NT 4.0) Apple...       Segment C   \n",
       "39998  Mozilla/5.0 (X11; Linux i686) AppleWebKit/536....       Segment B   \n",
       "39999  Mozilla/5.0 (iPod; U; CPU iPhone OS 3_0 like M...       Segment A   \n",
       "\n",
       "                   Geo-location Data Proxy Information Firewall Logs  \\\n",
       "0                 Jamshedpur, Sikkim      150.9.97.135      Log Data   \n",
       "1                 Bilaspur, Nagaland               NaN      Log Data   \n",
       "2                  Bokaro, Rajasthan    114.133.48.179      Log Data   \n",
       "3                 Jaunpur, Rajasthan               NaN           NaN   \n",
       "4                 Anantapur, Tripura     149.6.110.119           NaN   \n",
       "...                              ...               ...           ...   \n",
       "39995                Nashik, Manipur               NaN      Log Data   \n",
       "39996              Vadodara, Mizoram       60.51.30.46      Log Data   \n",
       "39997  Mahbubnagar, Himachal Pradesh               NaN      Log Data   \n",
       "39998    Rourkela, Arunachal Pradesh      137.76.130.8      Log Data   \n",
       "39999       Pudukkottai, West Bengal   112.169.115.139      Log Data   \n",
       "\n",
       "      IDS/IPS Alerts Log Source  \n",
       "0                NaN     Server  \n",
       "1                NaN   Firewall  \n",
       "2         Alert Data   Firewall  \n",
       "3         Alert Data   Firewall  \n",
       "4         Alert Data   Firewall  \n",
       "...              ...        ...  \n",
       "39995     Alert Data   Firewall  \n",
       "39996            NaN   Firewall  \n",
       "39997     Alert Data     Server  \n",
       "39998            NaN     Server  \n",
       "39999     Alert Data   Firewall  \n",
       "\n",
       "[40000 rows x 25 columns]>"
      ]
     },
     "execution_count": 2,
     "metadata": {},
     "output_type": "execute_result"
    }
   ],
   "source": [
    "path=\"../data/raw/cybersecurity_attacks.csv\"\n",
    "data= pd.read_csv(path)\n",
    "data.head\n"
   ]
  },
  {
   "cell_type": "markdown",
   "metadata": {},
   "source": [
    "## Data Exploration"
   ]
  },
  {
   "cell_type": "code",
   "execution_count": 3,
   "metadata": {},
   "outputs": [
    {
     "name": "stdout",
     "output_type": "stream",
     "text": [
      "<class 'pandas.core.frame.DataFrame'>\n",
      "RangeIndex: 40000 entries, 0 to 39999\n",
      "Data columns (total 25 columns):\n",
      " #   Column                  Non-Null Count  Dtype  \n",
      "---  ------                  --------------  -----  \n",
      " 0   Timestamp               40000 non-null  object \n",
      " 1   Source IP Address       40000 non-null  object \n",
      " 2   Destination IP Address  40000 non-null  object \n",
      " 3   Source Port             40000 non-null  int64  \n",
      " 4   Destination Port        40000 non-null  int64  \n",
      " 5   Protocol                40000 non-null  object \n",
      " 6   Packet Length           40000 non-null  int64  \n",
      " 7   Packet Type             40000 non-null  object \n",
      " 8   Traffic Type            40000 non-null  object \n",
      " 9   Payload Data            40000 non-null  object \n",
      " 10  Malware Indicators      20000 non-null  object \n",
      " 11  Anomaly Scores          40000 non-null  float64\n",
      " 12  Alerts/Warnings         19933 non-null  object \n",
      " 13  Attack Type             40000 non-null  object \n",
      " 14  Attack Signature        40000 non-null  object \n",
      " 15  Action Taken            40000 non-null  object \n",
      " 16  Severity Level          40000 non-null  object \n",
      " 17  User Information        40000 non-null  object \n",
      " 18  Device Information      40000 non-null  object \n",
      " 19  Network Segment         40000 non-null  object \n",
      " 20  Geo-location Data       40000 non-null  object \n",
      " 21  Proxy Information       20149 non-null  object \n",
      " 22  Firewall Logs           20039 non-null  object \n",
      " 23  IDS/IPS Alerts          19950 non-null  object \n",
      " 24  Log Source              40000 non-null  object \n",
      "dtypes: float64(1), int64(3), object(21)\n",
      "memory usage: 7.6+ MB\n"
     ]
    }
   ],
   "source": [
    "data.info()"
   ]
  },
  {
   "cell_type": "code",
   "execution_count": 4,
   "metadata": {},
   "outputs": [
    {
     "data": {
      "text/html": [
       "<div>\n",
       "<style scoped>\n",
       "    .dataframe tbody tr th:only-of-type {\n",
       "        vertical-align: middle;\n",
       "    }\n",
       "\n",
       "    .dataframe tbody tr th {\n",
       "        vertical-align: top;\n",
       "    }\n",
       "\n",
       "    .dataframe thead th {\n",
       "        text-align: right;\n",
       "    }\n",
       "</style>\n",
       "<table border=\"1\" class=\"dataframe\">\n",
       "  <thead>\n",
       "    <tr style=\"text-align: right;\">\n",
       "      <th></th>\n",
       "      <th>Source Port</th>\n",
       "      <th>Destination Port</th>\n",
       "      <th>Packet Length</th>\n",
       "      <th>Anomaly Scores</th>\n",
       "    </tr>\n",
       "  </thead>\n",
       "  <tbody>\n",
       "    <tr>\n",
       "      <th>count</th>\n",
       "      <td>40000.000000</td>\n",
       "      <td>40000.000000</td>\n",
       "      <td>40000.000000</td>\n",
       "      <td>40000.000000</td>\n",
       "    </tr>\n",
       "    <tr>\n",
       "      <th>mean</th>\n",
       "      <td>32970.356450</td>\n",
       "      <td>33150.868650</td>\n",
       "      <td>781.452725</td>\n",
       "      <td>50.113473</td>\n",
       "    </tr>\n",
       "    <tr>\n",
       "      <th>std</th>\n",
       "      <td>18560.425604</td>\n",
       "      <td>18574.668842</td>\n",
       "      <td>416.044192</td>\n",
       "      <td>28.853598</td>\n",
       "    </tr>\n",
       "    <tr>\n",
       "      <th>min</th>\n",
       "      <td>1027.000000</td>\n",
       "      <td>1024.000000</td>\n",
       "      <td>64.000000</td>\n",
       "      <td>0.000000</td>\n",
       "    </tr>\n",
       "    <tr>\n",
       "      <th>25%</th>\n",
       "      <td>16850.750000</td>\n",
       "      <td>17094.750000</td>\n",
       "      <td>420.000000</td>\n",
       "      <td>25.150000</td>\n",
       "    </tr>\n",
       "    <tr>\n",
       "      <th>50%</th>\n",
       "      <td>32856.000000</td>\n",
       "      <td>33004.500000</td>\n",
       "      <td>782.000000</td>\n",
       "      <td>50.345000</td>\n",
       "    </tr>\n",
       "    <tr>\n",
       "      <th>75%</th>\n",
       "      <td>48928.250000</td>\n",
       "      <td>49287.000000</td>\n",
       "      <td>1143.000000</td>\n",
       "      <td>75.030000</td>\n",
       "    </tr>\n",
       "    <tr>\n",
       "      <th>max</th>\n",
       "      <td>65530.000000</td>\n",
       "      <td>65535.000000</td>\n",
       "      <td>1500.000000</td>\n",
       "      <td>100.000000</td>\n",
       "    </tr>\n",
       "  </tbody>\n",
       "</table>\n",
       "</div>"
      ],
      "text/plain": [
       "        Source Port  Destination Port  Packet Length  Anomaly Scores\n",
       "count  40000.000000      40000.000000   40000.000000    40000.000000\n",
       "mean   32970.356450      33150.868650     781.452725       50.113473\n",
       "std    18560.425604      18574.668842     416.044192       28.853598\n",
       "min     1027.000000       1024.000000      64.000000        0.000000\n",
       "25%    16850.750000      17094.750000     420.000000       25.150000\n",
       "50%    32856.000000      33004.500000     782.000000       50.345000\n",
       "75%    48928.250000      49287.000000    1143.000000       75.030000\n",
       "max    65530.000000      65535.000000    1500.000000      100.000000"
      ]
     },
     "execution_count": 4,
     "metadata": {},
     "output_type": "execute_result"
    }
   ],
   "source": [
    "data.describe()"
   ]
  },
  {
   "cell_type": "code",
   "execution_count": 27,
   "metadata": {},
   "outputs": [
    {
     "name": "stdout",
     "output_type": "stream",
     "text": [
      "Missing data :\n"
     ]
    },
    {
     "data": {
      "text/plain": [
       "Alerts/Warnings           20067\n",
       "IDS/IPS Alerts            20050\n",
       "Malware Indicators        20000\n",
       "Firewall Logs             19961\n",
       "Proxy Information         19851\n",
       "Attack Type                   0\n",
       "Geo-location Data             0\n",
       "Network Segment               0\n",
       "Device Information            0\n",
       "User Information              0\n",
       "Severity Level                0\n",
       "Action Taken                  0\n",
       "Attack Signature              0\n",
       "Timestamp                     0\n",
       "Source IP Address             0\n",
       "Anomaly Scores                0\n",
       "Payload Data                  0\n",
       "Traffic Type                  0\n",
       "Packet Type                   0\n",
       "Packet Length                 0\n",
       "Protocol                      0\n",
       "Destination Port              0\n",
       "Source Port                   0\n",
       "Destination IP Address        0\n",
       "Log Source                    0\n",
       "dtype: int64"
      ]
     },
     "execution_count": 27,
     "metadata": {},
     "output_type": "execute_result"
    }
   ],
   "source": [
    "print(\"Missing data :\")\n",
    "data.isnull().sum().sort_values(ascending=False)"
   ]
  },
  {
   "cell_type": "markdown",
   "metadata": {},
   "source": [
    "## Data Cleaning"
   ]
  },
  {
   "cell_type": "markdown",
   "metadata": {},
   "source": [
    "+ Suppression de la colonne \"Payload Data\" :<br>\n",
    " Ce champ ne semblait pas nécessaire pour l'analyse, donc on l'a éliminé pour alléger le jeu de données et éviter les confusions.<br>\n",
    "+ Remplacement des valeurs manquantes :<br>\n",
    ". \"Alerts/Warnings\" → \"Alert Not Triggered\" (précise qu'aucune alerte n'a été déclenchée).<br>\n",
    ". \"Firewall Logs\" → \"No Data\" (indique l'absence d'enregistrements).<br>\n",
    ". \"Proxy Information\" → \"No Data\" (standardise les données manquantes).<br>\n",
    ". \"IDS/IPS Alerts\" → \"No Data\" (évite les valeurs vides).<br>\n",
    ". \"Malware Indicators\" → \"Unknown\" (indique une absence ou une incertitude sur les indicateurs de malware).<br>"
   ]
  },
  {
   "cell_type": "code",
   "execution_count": 40,
   "metadata": {},
   "outputs": [
    {
     "data": {
      "text/plain": [
       "Timestamp                 0\n",
       "Source IP Address         0\n",
       "IDS/IPS Alerts            0\n",
       "Firewall Logs             0\n",
       "Proxy Information         0\n",
       "Geo-location Data         0\n",
       "Network Segment           0\n",
       "Device Information        0\n",
       "User Information          0\n",
       "Severity Level            0\n",
       "Action Taken              0\n",
       "Attack Signature          0\n",
       "Attack Type               0\n",
       "Alerts/Warnings           0\n",
       "Anomaly Scores            0\n",
       "Malware Indicators        0\n",
       "Traffic Type              0\n",
       "Packet Type               0\n",
       "Packet Length             0\n",
       "Protocol                  0\n",
       "Destination Port          0\n",
       "Source Port               0\n",
       "Destination IP Address    0\n",
       "Log Source                0\n",
       "dtype: int64"
      ]
     },
     "execution_count": 40,
     "metadata": {},
     "output_type": "execute_result"
    }
   ],
   "source": [
    "cleaned_data=data.drop(\"Payload Data\",axis=1)\n",
    "cleaned_data[\"Alerts/Warnings\"] = cleaned_data[\"Alerts/Warnings\"].fillna(\"Alert Not Triggered\")\n",
    "cleaned_data[\"Firewall Logs\"] = cleaned_data[\"Firewall Logs\"].fillna(\"No Data\")\n",
    "cleaned_data[\"Proxy Information\"] = cleaned_data[\"Proxy Information\"].fillna(\"No Data\")\n",
    "cleaned_data[\"IDS/IPS Alerts\"] = cleaned_data[\"IDS/IPS Alerts\"].fillna(\"No Data\")\n",
    "cleaned_data[\"Malware Indicators\"] = cleaned_data[\"Malware Indicators\"].fillna(\"Unknown\")\n",
    "cleaned_data.isnull().sum().sort_values(ascending=False)\n"
   ]
  },
  {
   "cell_type": "code",
   "execution_count": 41,
   "metadata": {},
   "outputs": [],
   "source": [
    "cleaned_data['Browser'] = cleaned_data['Device Information'].str.split('/').str[0]\n"
   ]
  },
  {
   "cell_type": "code",
   "execution_count": 42,
   "metadata": {},
   "outputs": [],
   "source": [
    "\n",
    "platform = r'(Windows|Linux|Android|iPad|iPod|iPhone|Macintosh)'\n",
    "cleaned_data['Platform'] = cleaned_data['Device Information'].str.extract(platform, flags=re.I).fillna('Unknown')\n",
    "cleaned_data = cleaned_data.drop('Device Information', axis = 1)"
   ]
  },
  {
   "cell_type": "code",
   "execution_count": 43,
   "metadata": {},
   "outputs": [],
   "source": [
    "# Extract time features\n",
    "cleaned_data[\"Timestamp\"] = pd.to_datetime(cleaned_data[\"Timestamp\"], errors='coerce')\n",
    "cleaned_data['Year'] = cleaned_data[\"Timestamp\"].dt.year\n",
    "cleaned_data['Month'] = cleaned_data[\"Timestamp\"].dt.month\n",
    "cleaned_data['Day'] = cleaned_data[\"Timestamp\"].dt.day\n",
    "cleaned_data['Hour'] = cleaned_data[\"Timestamp\"].dt.hour\n",
    "cleaned_data['Minute'] = cleaned_data[\"Timestamp\"].dt.minute\n",
    "cleaned_data['Second'] = cleaned_data[\"Timestamp\"].dt.second\n",
    "cleaned_data['DayOfWeek'] = cleaned_data[\"Timestamp\"].dt.dayofweek"
   ]
  },
  {
   "cell_type": "code",
   "execution_count": 44,
   "metadata": {},
   "outputs": [
    {
     "data": {
      "text/plain": [
       "<bound method NDFrame.head of                 Timestamp Source IP Address Destination IP Address  \\\n",
       "0     2023-05-30 06:33:58     103.216.15.12           84.9.164.252   \n",
       "1     2020-08-26 07:08:30    78.199.217.198         66.191.137.154   \n",
       "2     2022-11-13 08:23:25      63.79.210.48          198.219.82.17   \n",
       "3     2023-07-02 10:38:46     163.42.196.10        101.228.192.255   \n",
       "4     2023-07-16 13:11:07     71.166.185.76        189.243.174.238   \n",
       "...                   ...               ...                    ...   \n",
       "39995 2023-05-26 14:08:42      26.36.109.26         121.100.75.240   \n",
       "39996 2023-03-27 00:38:27      17.21.163.81         196.108.134.78   \n",
       "39997 2022-03-31 01:45:49     162.35.217.57            98.107.0.15   \n",
       "39998 2023-09-22 18:32:38    208.72.233.205         173.79.112.252   \n",
       "39999 2023-10-10 11:59:52     14.102.21.108           109.198.45.7   \n",
       "\n",
       "       Source Port  Destination Port Protocol  Packet Length Packet Type  \\\n",
       "0            31225             17616     ICMP            503        Data   \n",
       "1            17245             48166     ICMP           1174        Data   \n",
       "2            16811             53600      UDP            306     Control   \n",
       "3            20018             32534      UDP            385        Data   \n",
       "4             6131             26646      TCP           1462        Data   \n",
       "...            ...               ...      ...            ...         ...   \n",
       "39995        31005              6764      UDP           1428     Control   \n",
       "39996         2553             28091      UDP           1184     Control   \n",
       "39997        22505             25152      UDP           1043        Data   \n",
       "39998        20013              2703      UDP            483        Data   \n",
       "39999        50137             55575     ICMP           1175     Control   \n",
       "\n",
       "      Traffic Type Malware Indicators  ...  Log Source  Browser   Platform  \\\n",
       "0             HTTP       IoC Detected  ...      Server  Mozilla    Windows   \n",
       "1             HTTP       IoC Detected  ...    Firewall  Mozilla    Windows   \n",
       "2             HTTP       IoC Detected  ...    Firewall  Mozilla    Windows   \n",
       "3             HTTP            Unknown  ...    Firewall  Mozilla  Macintosh   \n",
       "4              DNS            Unknown  ...    Firewall  Mozilla    Windows   \n",
       "...            ...                ...  ...         ...      ...        ...   \n",
       "39995         HTTP       IoC Detected  ...    Firewall  Mozilla       iPad   \n",
       "39996         HTTP       IoC Detected  ...    Firewall  Mozilla    Windows   \n",
       "39997          DNS       IoC Detected  ...      Server  Mozilla    Windows   \n",
       "39998          FTP       IoC Detected  ...      Server  Mozilla      Linux   \n",
       "39999         HTTP            Unknown  ...    Firewall  Mozilla       iPod   \n",
       "\n",
       "       Year Month Day Hour Minute Second DayOfWeek  \n",
       "0      2023     5  30    6     33     58         1  \n",
       "1      2020     8  26    7      8     30         2  \n",
       "2      2022    11  13    8     23     25         6  \n",
       "3      2023     7   2   10     38     46         6  \n",
       "4      2023     7  16   13     11      7         6  \n",
       "...     ...   ...  ..  ...    ...    ...       ...  \n",
       "39995  2023     5  26   14      8     42         4  \n",
       "39996  2023     3  27    0     38     27         0  \n",
       "39997  2022     3  31    1     45     49         3  \n",
       "39998  2023     9  22   18     32     38         4  \n",
       "39999  2023    10  10   11     59     52         1  \n",
       "\n",
       "[40000 rows x 32 columns]>"
      ]
     },
     "execution_count": 44,
     "metadata": {},
     "output_type": "execute_result"
    }
   ],
   "source": [
    "cleaned_data.head"
   ]
  },
  {
   "cell_type": "code",
   "execution_count": 45,
   "metadata": {},
   "outputs": [],
   "source": [
    "new_path=\"../data/processed/processed_cybersecurity_attacks.csv\"\n",
    "cleaned_data.to_csv(new_path)"
   ]
  },
  {
   "cell_type": "markdown",
   "metadata": {},
   "source": [
    "## Data Visualization"
   ]
  },
  {
   "cell_type": "code",
   "execution_count": null,
   "metadata": {},
   "outputs": [],
   "source": []
  },
  {
   "cell_type": "code",
   "execution_count": null,
   "metadata": {},
   "outputs": [],
   "source": []
  }
 ],
 "metadata": {
  "kernelspec": {
   "display_name": ".venv",
   "language": "python",
   "name": "python3"
  },
  "language_info": {
   "codemirror_mode": {
    "name": "ipython",
    "version": 3
   },
   "file_extension": ".py",
   "mimetype": "text/x-python",
   "name": "python",
   "nbconvert_exporter": "python",
   "pygments_lexer": "ipython3",
   "version": "3.13.3"
  }
 },
 "nbformat": 4,
 "nbformat_minor": 4
}
